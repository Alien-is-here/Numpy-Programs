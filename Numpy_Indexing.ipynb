{
  "nbformat": 4,
  "nbformat_minor": 0,
  "metadata": {
    "colab": {
      "provenance": []
    },
    "kernelspec": {
      "name": "python3",
      "display_name": "Python 3"
    },
    "language_info": {
      "name": "python"
    }
  },
  "cells": [
    {
      "cell_type": "code",
      "execution_count": 1,
      "metadata": {
        "id": "5INOjRTrhJxs"
      },
      "outputs": [],
      "source": [
        "import numpy as np"
      ]
    },
    {
      "cell_type": "code",
      "source": [
        "arr1 = np.arange(24).reshape(6,4)"
      ],
      "metadata": {
        "id": "omHF9AZKhXCp"
      },
      "execution_count": 3,
      "outputs": []
    },
    {
      "cell_type": "code",
      "source": [
        "arr1"
      ],
      "metadata": {
        "colab": {
          "base_uri": "https://localhost:8080/"
        },
        "id": "lg9-7t6ahsGZ",
        "outputId": "81f6e944-ebdb-4954-89df-17d32367c406"
      },
      "execution_count": 6,
      "outputs": [
        {
          "output_type": "execute_result",
          "data": {
            "text/plain": [
              "array([[ 0,  1,  2,  3],\n",
              "       [ 4,  5,  6,  7],\n",
              "       [ 8,  9, 10, 11],\n",
              "       [12, 13, 14, 15],\n",
              "       [16, 17, 18, 19],\n",
              "       [20, 21, 22, 23]])"
            ]
          },
          "metadata": {},
          "execution_count": 6
        }
      ]
    },
    {
      "cell_type": "code",
      "source": [
        "arr1[[0,2,4]]"
      ],
      "metadata": {
        "colab": {
          "base_uri": "https://localhost:8080/"
        },
        "id": "KuzVgU0ShsBX",
        "outputId": "d904b88b-7fb0-4d2e-8a41-48bad369f93a"
      },
      "execution_count": 7,
      "outputs": [
        {
          "output_type": "execute_result",
          "data": {
            "text/plain": [
              "array([[ 0,  1,  2,  3],\n",
              "       [ 8,  9, 10, 11],\n",
              "       [16, 17, 18, 19]])"
            ]
          },
          "metadata": {},
          "execution_count": 7
        }
      ]
    },
    {
      "cell_type": "markdown",
      "source": [
        "**` Indexing using Boolean Array`**"
      ],
      "metadata": {
        "id": "Eulvwjlii6Su"
      }
    },
    {
      "cell_type": "code",
      "source": [
        "arr2 = np.random.randint(1,100,20).reshape(4,5)"
      ],
      "metadata": {
        "id": "5XdYpUq9hr9C"
      },
      "execution_count": 8,
      "outputs": []
    },
    {
      "cell_type": "code",
      "source": [
        "arr2"
      ],
      "metadata": {
        "colab": {
          "base_uri": "https://localhost:8080/"
        },
        "id": "EKwwYle5i0S3",
        "outputId": "84bef021-52eb-439d-ce4c-7589f19aade1"
      },
      "execution_count": 9,
      "outputs": [
        {
          "output_type": "execute_result",
          "data": {
            "text/plain": [
              "array([[47, 15, 41,  6, 14],\n",
              "       [95,  5, 87, 26, 54],\n",
              "       [89, 93, 13, 29, 26],\n",
              "       [35, 92, 64, 92, 41]])"
            ]
          },
          "metadata": {},
          "execution_count": 9
        }
      ]
    },
    {
      "cell_type": "code",
      "source": [
        "arr2>50"
      ],
      "metadata": {
        "colab": {
          "base_uri": "https://localhost:8080/"
        },
        "id": "x27xsAGTi1T-",
        "outputId": "8b81620d-480a-4ccb-ca6a-cdb18310b7c3"
      },
      "execution_count": 10,
      "outputs": [
        {
          "output_type": "execute_result",
          "data": {
            "text/plain": [
              "array([[False, False, False, False, False],\n",
              "       [ True, False,  True, False,  True],\n",
              "       [ True,  True, False, False, False],\n",
              "       [False,  True,  True,  True, False]])"
            ]
          },
          "metadata": {},
          "execution_count": 10
        }
      ]
    },
    {
      "cell_type": "code",
      "source": [
        "arr2[arr2>50]"
      ],
      "metadata": {
        "colab": {
          "base_uri": "https://localhost:8080/"
        },
        "id": "6e8MCMIZjQCc",
        "outputId": "bf14f28b-63cc-45ed-ee29-e094fdfe8040"
      },
      "execution_count": 12,
      "outputs": [
        {
          "output_type": "execute_result",
          "data": {
            "text/plain": [
              "array([95, 87, 54, 89, 93, 92, 64, 92])"
            ]
          },
          "metadata": {},
          "execution_count": 12
        }
      ]
    },
    {
      "cell_type": "code",
      "source": [
        "arr2[(arr2>50) & (arr2%2 != 0)]"
      ],
      "metadata": {
        "colab": {
          "base_uri": "https://localhost:8080/"
        },
        "id": "M40nhMCfi4XF",
        "outputId": "a0d37128-7763-4064-fa43-ebf351d468a0"
      },
      "execution_count": 13,
      "outputs": [
        {
          "output_type": "execute_result",
          "data": {
            "text/plain": [
              "array([95, 87, 89, 93])"
            ]
          },
          "metadata": {},
          "execution_count": 13
        }
      ]
    },
    {
      "cell_type": "code",
      "source": [
        "arr2[(arr2>50) & (arr2%2 != 0)]=0"
      ],
      "metadata": {
        "id": "hxW09SrMjy-M"
      },
      "execution_count": 14,
      "outputs": []
    },
    {
      "cell_type": "code",
      "source": [
        "arr2"
      ],
      "metadata": {
        "colab": {
          "base_uri": "https://localhost:8080/"
        },
        "id": "6Ksg3NGFj-JH",
        "outputId": "6adc1e9e-f5d7-43f0-8fa3-1d9faa198cdb"
      },
      "execution_count": 16,
      "outputs": [
        {
          "output_type": "execute_result",
          "data": {
            "text/plain": [
              "array([[47, 15, 41,  6, 14],\n",
              "       [ 0,  5,  0, 26, 54],\n",
              "       [ 0,  0, 13, 29, 26],\n",
              "       [35, 92, 64, 92, 41]])"
            ]
          },
          "metadata": {},
          "execution_count": 16
        }
      ]
    },
    {
      "cell_type": "code",
      "source": [],
      "metadata": {
        "id": "kVxEpvDXj_Mj"
      },
      "execution_count": null,
      "outputs": []
    }
  ]
}
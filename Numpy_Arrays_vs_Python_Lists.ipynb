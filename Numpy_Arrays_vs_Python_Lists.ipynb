{
  "nbformat": 4,
  "nbformat_minor": 0,
  "metadata": {
    "colab": {
      "provenance": []
    },
    "kernelspec": {
      "name": "python3",
      "display_name": "Python 3"
    },
    "language_info": {
      "name": "python"
    }
  },
  "cells": [
    {
      "cell_type": "code",
      "execution_count": 1,
      "metadata": {
        "id": "-fujDjAd7PEm"
      },
      "outputs": [],
      "source": [
        "import numpy as np"
      ]
    },
    {
      "cell_type": "markdown",
      "source": [
        "**Calculating size of numpy array and python list**"
      ],
      "metadata": {
        "id": "G63h-aJQ8wGg"
      }
    },
    {
      "cell_type": "code",
      "source": [
        "list1 = range(100)\n",
        "arr1 = np.array(100)"
      ],
      "metadata": {
        "id": "9X2DMJGD7h4j"
      },
      "execution_count": 2,
      "outputs": []
    },
    {
      "cell_type": "code",
      "source": [
        "import sys"
      ],
      "metadata": {
        "id": "SEMhPI0P7s0C"
      },
      "execution_count": 3,
      "outputs": []
    },
    {
      "cell_type": "code",
      "source": [
        "print(sys.getsizeof(8)*len(list1))"
      ],
      "metadata": {
        "colab": {
          "base_uri": "https://localhost:8080/"
        },
        "id": "knFhEnEs7yeC",
        "outputId": "1c9dcb22-583a-4a05-b9cb-611e75822a5f"
      },
      "execution_count": 6,
      "outputs": [
        {
          "output_type": "stream",
          "name": "stdout",
          "text": [
            "2800\n"
          ]
        }
      ]
    },
    {
      "cell_type": "code",
      "source": [
        "print(arr1.itemsize*arr1.size)"
      ],
      "metadata": {
        "colab": {
          "base_uri": "https://localhost:8080/"
        },
        "id": "5SHwPSAU8C2i",
        "outputId": "3f5c1ef7-c9b9-4e7d-a208-c28049d590f1"
      },
      "execution_count": 5,
      "outputs": [
        {
          "output_type": "stream",
          "name": "stdout",
          "text": [
            "8\n"
          ]
        }
      ]
    },
    {
      "cell_type": "markdown",
      "source": [
        "**Calculating time for numpy array and python list**"
      ],
      "metadata": {
        "id": "-4GrYmRi9z1r"
      }
    },
    {
      "cell_type": "code",
      "source": [
        "import time"
      ],
      "metadata": {
        "id": "sDpv0CW88Vzt"
      },
      "execution_count": 7,
      "outputs": []
    },
    {
      "cell_type": "code",
      "source": [
        "x = range(1000000)\n",
        "y = range(1000000,2000000)\n",
        "start_time = time.time()\n",
        "c = [(x,y) for x,y in zip(x,y)]\n",
        "print(time.time()-start_time)"
      ],
      "metadata": {
        "colab": {
          "base_uri": "https://localhost:8080/"
        },
        "id": "3J84H0MK8lAo",
        "outputId": "052093ea-af10-40c4-a4c6-009e34b2e777"
      },
      "execution_count": 18,
      "outputs": [
        {
          "output_type": "stream",
          "name": "stdout",
          "text": [
            "0.20682215690612793\n"
          ]
        }
      ]
    },
    {
      "cell_type": "code",
      "source": [
        "a = np.arange(1000000)\n",
        "b = np.arange(1000000,2000000)\n",
        "start_time = time.time()\n",
        "c = a+b\n",
        "print(time.time()-start_time)"
      ],
      "metadata": {
        "colab": {
          "base_uri": "https://localhost:8080/"
        },
        "id": "-lX0tiNI9R_I",
        "outputId": "700c0ffb-8372-4d17-a5eb-04586d687c7c"
      },
      "execution_count": 19,
      "outputs": [
        {
          "output_type": "stream",
          "name": "stdout",
          "text": [
            "0.007360935211181641\n"
          ]
        }
      ]
    },
    {
      "cell_type": "code",
      "source": [],
      "metadata": {
        "id": "nmiAEUja_t4U"
      },
      "execution_count": null,
      "outputs": []
    }
  ]
}